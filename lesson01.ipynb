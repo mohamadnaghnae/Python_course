{
  "nbformat": 4,
  "nbformat_minor": 0,
  "metadata": {
    "colab": {
      "provenance": [],
      "authorship_tag": "ABX9TyNxDfz4dTjCITeR8GxuD2W1",
      "include_colab_link": true
    },
    "kernelspec": {
      "name": "python3",
      "display_name": "Python 3"
    },
    "language_info": {
      "name": "python"
    }
  },
  "cells": [
    {
      "cell_type": "markdown",
      "metadata": {
        "id": "view-in-github",
        "colab_type": "text"
      },
      "source": [
        "<a href=\"https://colab.research.google.com/github/mohamadnaghnae/Python_course/blob/main/lesson01.ipynb\" target=\"_parent\"><img src=\"https://colab.research.google.com/assets/colab-badge.svg\" alt=\"Open In Colab\"/></a>"
      ]
    },
    {
      "cell_type": "code",
      "execution_count": 1,
      "metadata": {
        "colab": {
          "base_uri": "https://localhost:8080/"
        },
        "id": "xYcMhVplL80l",
        "outputId": "5bb6b45f-117c-4b74-b1ce-83e70159f85a"
      },
      "outputs": [
        {
          "output_type": "stream",
          "name": "stdout",
          "text": [
            "weight of an object= 68.67\n"
          ]
        }
      ],
      "source": [
        "#claculating of weight of an object\n",
        "mass=7\n",
        "gravity=9.81\n",
        "weight_of_an_object=mass*gravity\n",
        "print(\"weight of an object=\",weight_of_an_object)"
      ]
    },
    {
      "cell_type": "code",
      "source": [],
      "metadata": {
        "id": "-z4lPkWfMyCA"
      },
      "execution_count": null,
      "outputs": []
    }
  ]
}