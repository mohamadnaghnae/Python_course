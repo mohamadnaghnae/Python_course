{
  "nbformat": 4,
  "nbformat_minor": 0,
  "metadata": {
    "colab": {
      "provenance": []
    },
    "kernelspec": {
      "name": "python3",
      "display_name": "Python 3"
    },
    "language_info": {
      "name": "python"
    }
  },
  "cells": [
    {
      "cell_type": "code",
      "execution_count": null,
      "metadata": {
        "colab": {
          "base_uri": "https://localhost:8080/"
        },
        "id": "xYcMhVplL80l",
        "outputId": "c2f377b1-418c-47ee-bdd2-3d98d618edc4"
      },
      "outputs": [
        {
          "output_type": "stream",
          "name": "stdout",
          "text": [
            "weight of an object= 68.67\n"
          ]
        }
      ],
      "source": [
        "#claculating of weight of an object\n",
        "mass=7\n",
        "gravity=9.81\n",
        "weight_of_an_object=mass*gravity\n",
        "print(\"weight of an object=\",weight_of_an_object)"
      ]
    },
    {
      "cell_type": "code",
      "source": [],
      "metadata": {
        "id": "-z4lPkWfMyCA"
      },
      "execution_count": null,
      "outputs": []
    }
  ]
}